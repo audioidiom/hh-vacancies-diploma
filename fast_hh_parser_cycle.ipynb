{
 "cells": [
  {
   "cell_type": "markdown",
   "id": "78404160",
   "metadata": {},
   "source": [
    "first id = 40_000_000"
   ]
  },
  {
   "cell_type": "code",
   "execution_count": 15,
   "id": "45a98ae3",
   "metadata": {},
   "outputs": [],
   "source": [
    "# !pip install requests\n",
    "# !pip install bs4\n",
    "\n",
    "# импортим либы\n",
    "import requests  \n",
    "import json\n",
    "import os\n",
    "import re\n",
    "import time\n",
    "\n",
    "from datetime import date, datetime\n",
    "from bs4 import BeautifulSoup\n",
    "from tqdm.auto import tqdm"
   ]
  },
  {
   "cell_type": "code",
   "execution_count": null,
   "id": "3b4dfbce",
   "metadata": {},
   "outputs": [
    {
     "data": {
      "application/vnd.jupyter.widget-view+json": {
       "model_id": "259aa645342b4fda8a9c6b6c4ee11856",
       "version_major": 2,
       "version_minor": 0
      },
      "text/plain": [
       "  0%|          | 0/59820 [00:00<?, ?it/s]"
      ]
     },
     "metadata": {},
     "output_type": "display_data"
    },
    {
     "name": "stdout",
     "output_type": "stream",
     "text": [
      "('Connection aborted.', ConnectionResetError(104, 'Connection reset by peer')) \n",
      "\n",
      "Error date: 2024-02-29\n"
     ]
    },
    {
     "data": {
      "application/vnd.jupyter.widget-view+json": {
       "model_id": "88ffb1b658f842f1bcedd6eab6a563c3",
       "version_major": 2,
       "version_minor": 0
      },
      "text/plain": [
       "  0%|          | 0/59820 [00:00<?, ?it/s]"
      ]
     },
     "metadata": {},
     "output_type": "display_data"
    }
   ],
   "source": [
    "while True:\n",
    "    home_path = os.getcwd()\n",
    "    home_path = '/'.join(home_path.split('/')[:-2])\n",
    "    subdir_path = os.path.join(home_path, 'hh_data_raw')\n",
    "    subdir_content = os.listdir(subdir_path)\n",
    "    max_date_str = max(subdir_content)\n",
    "    today_str = date.today().strftime(f'%Y-%m-%d')\n",
    "    curr_path = os.path.join(subdir_path, today_str)\n",
    "    last_path = os.path.join(subdir_path, max_date_str)\n",
    "    log_path = os.path.join(curr_path, 'log.txt')\n",
    "    start_path = os.path.join(home_path, 'start_id.txt')\n",
    "    start_id = 40_000_000\n",
    "    with open(start_path, 'r') as f:\n",
    "        start_list = f.readlines()\n",
    "        start_list = list(map(lambda x: int(x.rstrip('\\n')), start_list))\n",
    "        start_id = max(start_list)\n",
    "    \n",
    "    for start in range(start_id, 100_000_000, 2):\n",
    "        with open(start_path, 'a') as f:\n",
    "            f.write(str(start) + '\\n')\n",
    "        for vacancy_id in tqdm(range(start, 100_000_000, 1000)):\n",
    "            today_str = date.today().strftime(f'%Y-%m-%d')\n",
    "            subdir_content = os.listdir(subdir_path)\n",
    "            if today_str not in subdir_content:\n",
    "                    curr_path = os.path.join(subdir_path, today_str)\n",
    "                    os.mkdir(curr_path)\n",
    "\n",
    "            url = f'https://api.hh.ru/vacancies/{vacancy_id}'\n",
    "            try:\n",
    "                response = requests.get(url)\n",
    "            except Exception as e:\n",
    "                print(e, '\\n')\n",
    "                print(f'Error date: {today_str}')\n",
    "                log_path = os.path.join(curr_path, 'log.txt')\n",
    "\n",
    "                # waiting for 30 minutes and repeat\n",
    "                time.sleep(60*60)\n",
    "                break\n",
    "            if response.ok:\n",
    "                object_filename = f'{vacancy_id}.txt'\n",
    "                object_path = os.path.join(curr_path, object_filename)\n",
    "\n",
    "                with open(object_path, 'ab') as f:\n",
    "                    f.write(response.content)\n",
    "\n",
    "                now = datetime.now().strftime(\"%Y-%m-%d %H:%M:%S\")\n",
    "                with open(log_path, 'a') as f:\n",
    "                    f.write(now + '\\t\\t\\t\\t' + f'{vacancy_id} added successfully\\n')\n",
    "            else:\n",
    "                now = datetime.now().strftime(\"%Y-%m-%d %H:%M:%S\")\n",
    "                with open(log_path, 'a') as f:\n",
    "                    f.write(now + '\\t\\t\\t\\t' + f'{vacancy_id} adding failed: {str(response)}\\n')"
   ]
  },
  {
   "cell_type": "code",
   "execution_count": null,
   "id": "7c1ba8a4",
   "metadata": {},
   "outputs": [],
   "source": []
  }
 ],
 "metadata": {
  "kernelspec": {
   "display_name": "Python 3 (ipykernel)",
   "language": "python",
   "name": "python3"
  },
  "language_info": {
   "codemirror_mode": {
    "name": "ipython",
    "version": 3
   },
   "file_extension": ".py",
   "mimetype": "text/x-python",
   "name": "python",
   "nbconvert_exporter": "python",
   "pygments_lexer": "ipython3",
   "version": "3.8.10"
  }
 },
 "nbformat": 4,
 "nbformat_minor": 5
}
